{
 "cells": [
  {
   "cell_type": "markdown",
   "metadata": {},
   "source": [
    "# Dibujos Hiperbólicos: Basic Tutorial\n",
    "\n",
    "\n",
    "## Importing vs running from IDLE\n",
    "\n",
    "I'm assuming you've downloaded the file \"dibujos.py\" from https://github.com/pablolessa/dibujos_hiperbolicos and you know that the program is supposed to help generate figures of the Poincaré disk model of the hyperbolic plane.\n",
    "\n",
    "A nice way to use dibujos.py is from an interactive shell such as IDLE.  From IDLE you can open up \"dibujos.py\" and select \"Run\" from the menu or press f5.  \n",
    "\n",
    "From an IPython notebook or if you want to work by writting a script and running several times while tweaking the image you should start with:"
   ]
  },
  {
   "cell_type": "code",
   "execution_count": 1,
   "metadata": {
    "collapsed": false
   },
   "outputs": [],
   "source": [
    "from dibujos import *"
   ]
  },
  {
   "cell_type": "markdown",
   "metadata": {},
   "source": [
    "## Creating an empty figure\n",
    "\n",
    "To create an empty figure just do the following:"
   ]
  },
  {
   "cell_type": "code",
   "execution_count": 2,
   "metadata": {
    "collapsed": false
   },
   "outputs": [],
   "source": [
    "f = Figure()"
   ]
  },
  {
   "cell_type": "markdown",
   "metadata": {},
   "source": [
    "## Writting to pgf and svg files\n",
    "\n",
    "At this point the figure \"f\" is empty.  But we can still output to either a pgf file (usable from LaTex via the Tikz package, or from programs like KTikz) or an svg (Scalable Vector Graphics, pretty much all web browsers know how to open this file type, also it can be converted to other vector formats such as eps using different programs such as Inkscape).\n",
    "\n",
    "To do this we simply use the .writepgf or .writesvg methods of the Figure class."
   ]
  },
  {
   "cell_type": "code",
   "execution_count": 3,
   "metadata": {
    "collapsed": true
   },
   "outputs": [],
   "source": [
    "f.writepgf('emptyfigure.pgf')\n",
    "f.writesvg('emptyfigure.svg')"
   ]
  },
  {
   "cell_type": "markdown",
   "metadata": {},
   "source": [
    "The output looks like this (here I'm showing the svg file):\n",
    "\n",
    "![emptyfigure.svg](emptyfigure.svg)"
   ]
  },
  {
   "cell_type": "markdown",
   "metadata": {},
   "source": [
    "## Adding drawables to a figure\n",
    "\n",
    "This is all good and well but at somepoint you're going to want to actually draw something in the disk.   Dibujos provides several \"drawables\" which are classes whose instances can be added to a figure.\n",
    "\n",
    "To be concrete the drawables are:  Point, Boundarypoint, Tangent, Segment, Halfline, Line, Circle, and Disk.\n",
    "\n",
    "### Tangents\n",
    "\n",
    "The most important drawable class is Tangent.  Tangent objects represent unit tangent vectors to the disk.  They can be created in several ways.  Here's one."
   ]
  },
  {
   "cell_type": "code",
   "execution_count": 4,
   "metadata": {
    "collapsed": true
   },
   "outputs": [],
   "source": [
    "t = Tangent.origin()\n",
    "f.add(t)\n",
    "f.writesvg('tangent.svg')"
   ]
  },
  {
   "cell_type": "markdown",
   "metadata": {},
   "source": [
    "![tangent.svg](tangent.svg)"
   ]
  },
  {
   "cell_type": "markdown",
   "metadata": {},
   "source": [
    "The constuctor Tangent.origin() gives the unit tangent vector at the center of the disk pointing right.\n",
    "\n",
    "The Tangent.forward(d) constructor gives a tangent vector which is at distance d from Tangent.origin() along the geodesic (the distance is in hyperbolic units of course).\n",
    "\n",
    "The Tangent.rotate(angle) constructor gives tangent vector which is rotated a angle from Tangent.origin() in the counter-clockwise sense.\n",
    "\n",
    "The Tangent.sideways(distance) constructor gives a tangent vector to the right of Tangent.origin() on the same (stable) horocycle (a horocycle is viewed in the Poincaré disk model as an Euclidean circle tangent to the boundary circle)."
   ]
  },
  {
   "cell_type": "code",
   "execution_count": 5,
   "metadata": {
    "collapsed": true
   },
   "outputs": [],
   "source": [
    "forward = Tangent.forward(1)\n",
    "backward = Tangent.forward(-1)\n",
    "rotated = Tangent.rotate(pi/4)\n",
    "right = Tangent.sideways(1)\n",
    "left = Tangent.sideways(-1)\n",
    "f.update([forward,backward,rotated,right,left])\n",
    "f.writesvg('moretangents.svg')"
   ]
  },
  {
   "cell_type": "markdown",
   "metadata": {},
   "source": [
    "![moretangents.svg](moretangents.svg)"
   ]
  },
  {
   "cell_type": "markdown",
   "metadata": {},
   "source": [
    "Here we used the Figure.update method which adds a sequence of drawables to a figure.   In short, use f.add if you want to add a single drawable to a figure f but use f.update if you want to add more than one at the same time.   You can use f.add(g) to add all drawables in a figure g to a figure f for example.\n",
    "\n",
    "Tangents are drawn so that their hyperbolic length is constant.  This means tangents get smaller if they are close to the boundary.\n",
    "\n",
    "### Colors \n",
    "\n",
    "I think this is a good moment to introduce colors.   Every drawable has a .color attribute which can take any of the following values: 'red' 'green' 'blue' 'cyan' 'magenta' 'yellow' 'black' 'gray' 'darkgray' 'lightgray' 'brown' 'lime' 'olive' 'orange' 'pink' 'purple' 'teal' 'violet' 'white'\n",
    "\n",
    "One can change the color of a tangent either by changing the attribute directly or by calling a one of the folowing functions on it: Red Green Blue Cyan Magenta Yellow Black Gray Darkgray Lightgray Brown Lime Olive Orange Pink Purple Teal Violet.\n"
   ]
  },
  {
   "cell_type": "code",
   "execution_count": 6,
   "metadata": {
    "collapsed": true
   },
   "outputs": [],
   "source": [
    "forward.color = 'red'\n",
    "Teal(backward)\n",
    "Violet(rotated)\n",
    "Yellow(left)\n",
    "Orange(right)\n",
    "f.writesvg('moretangentswithcolors.svg')"
   ]
  },
  {
   "cell_type": "markdown",
   "metadata": {},
   "source": [
    "![moretangentswithcolors.svg](moretangentswithcolors.svg)"
   ]
  },
  {
   "cell_type": "markdown",
   "metadata": {},
   "source": [
    "## Tangents are isometries\n",
    "\n",
    "For each unit tangent vector \"t\" there is a unique orientation preserving isometry (i.e. hyperbolic distance preserving transformation) of the disk which sends Tangent.origin() to \"t\".   One can get the result of applying this transformation to any drawable (including other tangents) by using the notation \"t*drawable\".\n",
    "\n",
    "This is a good way to construct tangents."
   ]
  },
  {
   "cell_type": "code",
   "execution_count": 7,
   "metadata": {
    "collapsed": true
   },
   "outputs": [],
   "source": [
    "f.add(Olive(Tangent.forward(1)*Tangent.rotate(pi/2)))\n",
    "f.add(Green(Tangent.forward(1)*Tangent.rotate(pi/2)*Tangent.forward(1)))\n",
    "f.writesvg('tangentsareisometries.svg')"
   ]
  },
  {
   "cell_type": "markdown",
   "metadata": {},
   "source": [
    "![tangentsareisometries.svg](tangentsareisometries.svg)"
   ]
  },
  {
   "cell_type": "markdown",
   "metadata": {},
   "source": [
    "## Points\n",
    "\n",
    "Points represent what one might expect.   A simple way to get a point is by using the .basepoint attribute of a tangent vector.  Another is by calling Point(z) where z is a complex number of modulus less than one (for example Point(0) gives a point at the center of the disk).\n",
    "\n",
    "They can be colored as expected.  And acted on by tangents as explained above."
   ]
  },
  {
   "cell_type": "code",
   "execution_count": 8,
   "metadata": {
    "collapsed": false
   },
   "outputs": [],
   "source": [
    "f.update([Tangent.forward(i)*Blue(Point(0)) for i in range(-10,11)])\n",
    "f.add(left.basepoint)\n",
    "f.add(right.basepoint)\n",
    "f.add(Tangent.forward(1)*Tangent.rotate(pi/2)*Tangent.forward(1)*Point(0))\n",
    "f.writesvg('points.svg')"
   ]
  },
  {
   "cell_type": "markdown",
   "metadata": {},
   "source": [
    "![points.svg](points.svg)"
   ]
  },
  {
   "cell_type": "markdown",
   "metadata": {
    "collapsed": false
   },
   "source": [
    "### Other constructors for Points\n",
    "\n",
    "Since points are so important there are a number of constructors.   You can construct a point from polar coordinates by using Point.frompolar(angle=something, radius=somethingelse).\n",
    "\n",
    "Also you can get them from other models of the hyperbolic plane, such as the upper half plane model, the klein model, or the hyperboloid model but I wont give examples here.\n",
    "\n",
    "Also, don't forget that you can get new points from old ones by multiplying by tangents.   Here are vertices and the midpoints of the sides of a regular octogon which tiles the hyperbolic plane fitting exactly 8 copies at each vertex. "
   ]
  },
  {
   "cell_type": "code",
   "execution_count": 9,
   "metadata": {
    "collapsed": false
   },
   "outputs": [],
   "source": [
    "r = acosh(1/tan(pi/8))\n",
    "octogonmidpoints = [Cyan(Point.frompolar(radius=r,angle=2*pi*i/8)) for i in range(8)]\n",
    "p = Tangent.forward(r)*Tangent.rotate(pi/2)*Tangent.forward(r)*Point(0)\n",
    "octogonvertices = [Tangent.rotate(2*pi*i/8)*p for i in range(8)]\n",
    "f.update(octogonmidpoints+octogonvertices)\n",
    "f = Figure(octogonmidpoints+octogonvertices)\n",
    "f.writesvg('octogonpoints.svg')"
   ]
  },
  {
   "cell_type": "markdown",
   "metadata": {
    "collapsed": false
   },
   "source": [
    "![octogonpoints.svg](octogonpoints.svg)"
   ]
  },
  {
   "cell_type": "markdown",
   "metadata": {
    "collapsed": true
   },
   "source": [
    "## Segments\n",
    "\n",
    "Segments are finite length hyperbolic geodesic segments.  They are constructed by giving the start and endpoint (which must be Point instances).  They can also be colored of course.\n",
    "\n",
    "Let's add sides to our octogon."
   ]
  },
  {
   "cell_type": "code",
   "execution_count": 10,
   "metadata": {
    "collapsed": true
   },
   "outputs": [],
   "source": [
    "for i,p in enumerate(octogonvertices):\n",
    "    q = octogonvertices[(i+1)%8] # the next vertex in cyclic order\n",
    "    f.add(Brown(Segment(p,q)))\n",
    "  \n",
    "f.writesvg('octogonwithsides.svg')"
   ]
  },
  {
   "cell_type": "markdown",
   "metadata": {},
   "source": [
    "![octogonwithsides.svg](octogonwithsides.svg)"
   ]
  },
  {
   "cell_type": "markdown",
   "metadata": {
    "collapsed": true
   },
   "source": [
    "## Acting on figures with Tangents\n",
    "\n",
    "You can multiply a figure f by a tangent t and the result is a new figure obtained by multiplying each drawable in f by t.\n",
    "\n",
    "Here's an example:"
   ]
  },
  {
   "cell_type": "code",
   "execution_count": 11,
   "metadata": {
    "collapsed": true
   },
   "outputs": [],
   "source": [
    "right = Tangent.forward(2*r)\n",
    "left = Tangent.forward(-2*r)\n",
    "upright = Tangent.rotate(pi/4)*Tangent.forward(2*r)*Tangent.rotate(-pi/4)\n",
    "downleft = Tangent.rotate(pi/4)*Tangent.forward(-2*r)*Tangent.rotate(-pi/4)\n",
    "up = Tangent.rotate(pi/2)*Tangent.forward(2*r)*Tangent.rotate(-pi/2)\n",
    "down = Tangent.rotate(pi/2)*Tangent.forward(-2*r)*Tangent.rotate(-pi/2)\n",
    "downright = Tangent.rotate(-pi/4)*Tangent.forward(2*r)*Tangent.rotate(pi/4)\n",
    "upleft = Tangent.rotate(-pi/4)*Tangent.forward(-2*r)*Tangent.rotate(pi/4)\n",
    "\n",
    "g = right*f\n",
    "g.update(left*f)\n",
    "g.update(upright*f)\n",
    "g.update(downleft*f)\n",
    "g.update(up*f)\n",
    "g.update(down*f)\n",
    "g.update(downright*f)\n",
    "g.update(upleft*f)\n",
    "g.update(f)\n",
    "\n",
    "g.writesvg('someoctogons.svg')"
   ]
  },
  {
   "cell_type": "markdown",
   "metadata": {},
   "source": [
    "![someoctogons.svg](someoctogons.svg)"
   ]
  },
  {
   "cell_type": "markdown",
   "metadata": {
    "collapsed": true
   },
   "source": [
    "## Halfline, Line, and boundary points\n",
    "\n",
    "The Boundarypoint class is provided to represent points on the boundary of the disk.  They are constructed using the constructor \"Boundarypoint(angle)\" where the angle is measured counter-clockwise from the positive real axis (so Boundarypoint(0) gives the rightmost point of the boundary circle).  They can be drawn, acted on by tangents, etc.\n",
    "\n",
    "A Halfline instance represents half of a hyperbolic geodesic.  It can be initialized using a Tangent (representing the starting point and direction).   Also one can give two points, the second of which is a boundary point, using the Halfline.fromtwopoints constructor.   \n",
    "\n",
    "Lines represent complete hyperbolic geodesics.  They can be created by giving a Tangent (any tangent on the desired line) or by giving two boundary points using the Line.fromtwopoints constructor.\n",
    "\n",
    "Here are some random examples:"
   ]
  },
  {
   "cell_type": "code",
   "execution_count": 12,
   "metadata": {
    "collapsed": false
   },
   "outputs": [],
   "source": [
    "import random\n",
    "\n",
    "g = Figure()\n",
    "\n",
    "g.add(Red(Halfline(Tangent.origin())))\n",
    "\n",
    "alpha = 2*pi*random.random()\n",
    "beta = 2*pi*random.random()\n",
    "boundarypoint1 = Boundarypoint(alpha)\n",
    "boundarypoint2 = Boundarypoint(beta)\n",
    "\n",
    "g.add(boundarypoint1)\n",
    "g.add(Blue(boundarypoint2))\n",
    "\n",
    "half = Red(Halfline(Tangent.origin()))\n",
    "line = Blue(Line(Tangent.rotate(pi/4)))\n",
    "\n",
    "g.add(half)\n",
    "g.add(Tangent.forward(1)*line)\n",
    "\n",
    "\n",
    "g.add(Darkgray(Halfline.fromtwopoints(Point(0.3+0.1*1j),boundarypoint2)))\n",
    "g.add(Cyan(Line.fromtwopoints(boundarypoint1,boundarypoint2)))\n",
    "\n",
    "g.writesvg('lines.svg')"
   ]
  },
  {
   "cell_type": "markdown",
   "metadata": {
    "collapsed": false
   },
   "source": [
    "![lines.svg](lines.svg)"
   ]
  },
  {
   "cell_type": "markdown",
   "metadata": {
    "collapsed": true
   },
   "source": [
    "## Circles and disks\n",
    "\n",
    "One can draw hyperbolic circles (which happen to be Euclidean circles as well) and disks (i.e. filled in circles).  The constructors are pretty obvious and accept a Point and a radius.\n"
   ]
  },
  {
   "cell_type": "code",
   "execution_count": 13,
   "metadata": {
    "collapsed": true
   },
   "outputs": [],
   "source": [
    "g = Figure()\n",
    "greencircle = Green(Circle(Point.frompolar(radius=0.3,angle=0),0.2)) \n",
    "g.add(greencircle)\n",
    "g.add(Tangent.rotate(2*pi/3)*Tangent.forward(1)*greencircle)\n",
    "g.add(Blue(Disk(Point(0),0.05)))\n",
    "g.writesvg('disks.svg')"
   ]
  },
  {
   "cell_type": "markdown",
   "metadata": {},
   "source": [
    "![disks.svg](disks.svg)"
   ]
  },
  {
   "cell_type": "markdown",
   "metadata": {
    "collapsed": true
   },
   "source": [
    "## Stickman and modulargoup\n",
    "\n",
    "We provide a function stickman admitting a parameter size which returns a figure containing a rudimentary stickman (made out of Segments and a Circle).\n",
    "\n",
    "Since it's a figure you need to use .update to add it to any figure of yours.\n"
   ]
  },
  {
   "cell_type": "code",
   "execution_count": 14,
   "metadata": {
    "collapsed": true
   },
   "outputs": [],
   "source": [
    "f = Figure()\n",
    "f.update(Tangent.forward(1)*Tangent.rotate(pi/2)*stickman(size=0.3))\n",
    "f.writesvg('stickman.svg')"
   ]
  },
  {
   "cell_type": "markdown",
   "metadata": {},
   "source": [
    "![stickman.svg](stickman.svg)"
   ]
  },
  {
   "cell_type": "markdown",
   "metadata": {},
   "source": [
    "We also provide a generator modulargroup(n) which generates the ball of radius n in the modular group (basically a bunch of tangents generated as products of Tangent.rotate(pi) and Tangent.sideways(1)).  This can be used to produce nice pictures such as the following:"
   ]
  },
  {
   "cell_type": "code",
   "execution_count": 15,
   "metadata": {
    "collapsed": true
   },
   "outputs": [],
   "source": [
    "g = Figure()\n",
    "for t in modulargroup(15):\n",
    "    g.update(t*f)\n",
    "g.writesvg('morestickmen.svg')"
   ]
  },
  {
   "cell_type": "markdown",
   "metadata": {},
   "source": [
    "![morestickmen.svg](morestickmen.svg)"
   ]
  },
  {
   "cell_type": "markdown",
   "metadata": {
    "collapsed": true
   },
   "source": [
    "# Future\n",
    "\n",
    "The priority for future work is:\n",
    "- Creating a gallery of examples and fixing any bugs that might arise while doing so.\n",
    "- Adding generators for other Fuchsian groups (besides the modular group).\n",
    "- Adding other drawables such as horocyles and equidistant curves.\n",
    "\n",
    "This last item is not a high priority.  And I want to avoid adding too many drawables to keep the API simple and easy to learn and use."
   ]
  }
 ],
 "metadata": {
  "kernelspec": {
   "display_name": "Python 3",
   "language": "python",
   "name": "python3"
  },
  "language_info": {
   "codemirror_mode": {
    "name": "ipython",
    "version": 3
   },
   "file_extension": ".py",
   "mimetype": "text/x-python",
   "name": "python",
   "nbconvert_exporter": "python",
   "pygments_lexer": "ipython3",
   "version": "3.4.0"
  }
 },
 "nbformat": 4,
 "nbformat_minor": 0
}
